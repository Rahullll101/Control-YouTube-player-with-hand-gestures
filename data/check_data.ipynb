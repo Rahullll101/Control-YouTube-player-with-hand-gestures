{
 "cells": [
  {
   "cell_type": "code",
   "execution_count": 1,
   "metadata": {},
   "outputs": [],
   "source": [
    "import pandas as pd\n",
    "pd.set_option('display.max_columns', None)"
   ]
  },
  {
   "cell_type": "code",
   "execution_count": 2,
   "metadata": {},
   "outputs": [
    {
     "name": "stdout",
     "output_type": "stream",
     "text": [
      "Total number of samples: 432\n",
      "Number of Classes: 13\n"
     ]
    },
    {
     "data": {
      "text/html": [
       "<div>\n",
       "<style scoped>\n",
       "    .dataframe tbody tr th:only-of-type {\n",
       "        vertical-align: middle;\n",
       "    }\n",
       "\n",
       "    .dataframe tbody tr th {\n",
       "        vertical-align: top;\n",
       "    }\n",
       "\n",
       "    .dataframe thead th {\n",
       "        text-align: right;\n",
       "    }\n",
       "</style>\n",
       "<table border=\"1\" class=\"dataframe\">\n",
       "  <thead>\n",
       "    <tr style=\"text-align: right;\">\n",
       "      <th></th>\n",
       "      <th>0</th>\n",
       "      <th>1</th>\n",
       "      <th>2</th>\n",
       "      <th>3</th>\n",
       "      <th>4</th>\n",
       "      <th>5</th>\n",
       "      <th>6</th>\n",
       "      <th>7</th>\n",
       "      <th>8</th>\n",
       "      <th>9</th>\n",
       "      <th>10</th>\n",
       "      <th>11</th>\n",
       "      <th>12</th>\n",
       "      <th>13</th>\n",
       "    </tr>\n",
       "  </thead>\n",
       "  <tbody>\n",
       "    <tr>\n",
       "      <th>0</th>\n",
       "      <td>0</td>\n",
       "      <td>1.000000</td>\n",
       "      <td>-0.254545</td>\n",
       "      <td>0.745455</td>\n",
       "      <td>-0.854545</td>\n",
       "      <td>0.709091</td>\n",
       "      <td>-0.881818</td>\n",
       "      <td>0.672727</td>\n",
       "      <td>-0.881818</td>\n",
       "      <td>0.572727</td>\n",
       "      <td>-0.918182</td>\n",
       "      <td>0.783317</td>\n",
       "      <td>0.831012</td>\n",
       "      <td>0.054629</td>\n",
       "    </tr>\n",
       "    <tr>\n",
       "      <th>1</th>\n",
       "      <td>0</td>\n",
       "      <td>1.000000</td>\n",
       "      <td>-0.301887</td>\n",
       "      <td>0.726415</td>\n",
       "      <td>-0.915094</td>\n",
       "      <td>0.698113</td>\n",
       "      <td>-0.952830</td>\n",
       "      <td>0.698113</td>\n",
       "      <td>-0.962264</td>\n",
       "      <td>0.641509</td>\n",
       "      <td>-0.971698</td>\n",
       "      <td>0.790404</td>\n",
       "      <td>0.844633</td>\n",
       "      <td>0.055525</td>\n",
       "    </tr>\n",
       "    <tr>\n",
       "      <th>2</th>\n",
       "      <td>0</td>\n",
       "      <td>0.891892</td>\n",
       "      <td>-0.387387</td>\n",
       "      <td>0.540541</td>\n",
       "      <td>-0.909910</td>\n",
       "      <td>0.522523</td>\n",
       "      <td>-0.936937</td>\n",
       "      <td>0.495495</td>\n",
       "      <td>-0.954955</td>\n",
       "      <td>0.405405</td>\n",
       "      <td>-1.000000</td>\n",
       "      <td>0.807645</td>\n",
       "      <td>0.849308</td>\n",
       "      <td>0.041664</td>\n",
       "    </tr>\n",
       "    <tr>\n",
       "      <th>3</th>\n",
       "      <td>0</td>\n",
       "      <td>0.888889</td>\n",
       "      <td>-0.462963</td>\n",
       "      <td>0.509259</td>\n",
       "      <td>-0.962963</td>\n",
       "      <td>0.462963</td>\n",
       "      <td>-0.981481</td>\n",
       "      <td>0.453704</td>\n",
       "      <td>-0.990741</td>\n",
       "      <td>0.398148</td>\n",
       "      <td>-1.000000</td>\n",
       "      <td>0.790258</td>\n",
       "      <td>0.844683</td>\n",
       "      <td>0.062767</td>\n",
       "    </tr>\n",
       "    <tr>\n",
       "      <th>4</th>\n",
       "      <td>0</td>\n",
       "      <td>0.903846</td>\n",
       "      <td>-0.461538</td>\n",
       "      <td>0.509615</td>\n",
       "      <td>-0.942308</td>\n",
       "      <td>0.480769</td>\n",
       "      <td>-0.971154</td>\n",
       "      <td>0.461538</td>\n",
       "      <td>-0.990385</td>\n",
       "      <td>0.403846</td>\n",
       "      <td>-1.000000</td>\n",
       "      <td>0.813551</td>\n",
       "      <td>0.866688</td>\n",
       "      <td>0.053380</td>\n",
       "    </tr>\n",
       "    <tr>\n",
       "      <th>5</th>\n",
       "      <td>0</td>\n",
       "      <td>1.000000</td>\n",
       "      <td>-0.289720</td>\n",
       "      <td>0.766355</td>\n",
       "      <td>-0.803738</td>\n",
       "      <td>0.728972</td>\n",
       "      <td>-0.813084</td>\n",
       "      <td>0.663551</td>\n",
       "      <td>-0.822430</td>\n",
       "      <td>0.588785</td>\n",
       "      <td>-0.831776</td>\n",
       "      <td>0.684726</td>\n",
       "      <td>0.714741</td>\n",
       "      <td>0.046730</td>\n",
       "    </tr>\n",
       "  </tbody>\n",
       "</table>\n",
       "</div>"
      ],
      "text/plain": [
       "   0         1         2         3         4         5         6         7   \\\n",
       "0   0  1.000000 -0.254545  0.745455 -0.854545  0.709091 -0.881818  0.672727   \n",
       "1   0  1.000000 -0.301887  0.726415 -0.915094  0.698113 -0.952830  0.698113   \n",
       "2   0  0.891892 -0.387387  0.540541 -0.909910  0.522523 -0.936937  0.495495   \n",
       "3   0  0.888889 -0.462963  0.509259 -0.962963  0.462963 -0.981481  0.453704   \n",
       "4   0  0.903846 -0.461538  0.509615 -0.942308  0.480769 -0.971154  0.461538   \n",
       "5   0  1.000000 -0.289720  0.766355 -0.803738  0.728972 -0.813084  0.663551   \n",
       "\n",
       "         8         9         10        11        12        13  \n",
       "0 -0.881818  0.572727 -0.918182  0.783317  0.831012  0.054629  \n",
       "1 -0.962264  0.641509 -0.971698  0.790404  0.844633  0.055525  \n",
       "2 -0.954955  0.405405 -1.000000  0.807645  0.849308  0.041664  \n",
       "3 -0.990741  0.398148 -1.000000  0.790258  0.844683  0.062767  \n",
       "4 -0.990385  0.403846 -1.000000  0.813551  0.866688  0.053380  \n",
       "5 -0.822430  0.588785 -0.831776  0.684726  0.714741  0.046730  "
      ]
     },
     "execution_count": 2,
     "metadata": {},
     "output_type": "execute_result"
    }
   ],
   "source": [
    "# Data overview\n",
    "data = pd.read_csv('gestures.csv', header=None)\n",
    "\n",
    "print(f'Total number of samples: {data.shape[0]}')\n",
    "print(f'Number of Classes: {len( data[0].unique() )}')\n",
    "data.head(6)"
   ]
  },
  {
   "cell_type": "code",
   "execution_count": 3,
   "metadata": {},
   "outputs": [
    {
     "name": "stdout",
     "output_type": "stream",
     "text": [
      "12    63\n",
      "6     35\n",
      "0     31\n",
      "7     31\n",
      "8     31\n",
      "10    31\n",
      "1     30\n",
      "2     30\n",
      "3     30\n",
      "4     30\n",
      "5     30\n",
      "9     30\n",
      "11    30\n",
      "Name: 0, dtype: int64\n"
     ]
    },
    {
     "data": {
      "image/png": "[encoded data removed]",
      "text/plain": [
       "<Figure size 432x288 with 1 Axes>"
      ]
     },
     "metadata": {
      "needs_background": "light"
     },
     "output_type": "display_data"
    }
   ],
   "source": [
    "# Number of samples per class\n",
    "print(data[0].value_counts())\n",
    "(data[0].value_counts(normalize=True)*100).plot(kind = 'bar', xlabel = 'Class id', ylabel = 'Class proportion ( % )'); "
   ]
  }
 ],
 "metadata": {
  "kernelspec": {
   "display_name": "Python 3.8.13 ('strive')",
   "language": "python",
   "name": "python3"
  },
  "language_info": {
   "codemirror_mode": {
    "name": "ipython",
    "version": 3
   },
   "file_extension": ".py",
   "mimetype": "text/x-python",
   "name": "python",
   "nbconvert_exporter": "python",
   "pygments_lexer": "ipython3",
   "version": "3.8.13"
  },
  "orig_nbformat": 4,
  "vscode": {
   "interpreter": {
    "hash": "57b4146e8602cb0ff91512065bdb02700ac9f9d6ea9aa046f2e5f7c3a69675f8"
   }
  }
 },
 "nbformat": 4,
 "nbformat_minor": 2
}
